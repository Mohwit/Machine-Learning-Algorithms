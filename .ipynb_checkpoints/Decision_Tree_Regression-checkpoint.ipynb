{
 "cells": [
  {
   "cell_type": "markdown",
   "id": "953c3f84-ed1b-4a32-a2c8-38937880b2e2",
   "metadata": {},
   "source": [
    "## Decision Tree Regression"
   ]
  },
  {
   "cell_type": "markdown",
   "id": "0dde120d-b9bf-4f4b-88df-152c508a85d7",
   "metadata": {},
   "source": [
    "### Importing the libraries"
   ]
  },
  {
   "cell_type": "code",
   "execution_count": null,
   "id": "75caf7bc-3eeb-4a89-af33-bb87c14185c0",
   "metadata": {},
   "outputs": [],
   "source": [
    "import numpy as np\n",
    "import matplotlib.pyplot as plt\n",
    "import pandas as pd"
   ]
  },
  {
   "cell_type": "markdown",
   "id": "df758e71-d7e8-4c18-b0f8-3cb9e91cc2a6",
   "metadata": {},
   "source": [
    "### Importing the data set"
   ]
  },
  {
   "cell_type": "code",
   "execution_count": null,
   "id": "1fd12aa5-ffa3-49bc-89f7-553b610fde1e",
   "metadata": {},
   "outputs": [],
   "source": [
    "dataset = pd.read_csv('dataset.csv')\n",
    "X = dataset.iloc[:, :-1].values\n",
    "y = dataset.iloc[:, -1].va"
   ]
  },
  {
   "cell_type": "markdown",
   "id": "a3bf060c-7170-4cf8-acd8-b28bc1e0c4d4",
   "metadata": {},
   "source": [
    "### Splitting the dataset into training and test data set"
   ]
  },
  {
   "cell_type": "code",
   "execution_count": null,
   "id": "5e94eb03-4b8d-4625-bad5-9edc00dde30b",
   "metadata": {},
   "outputs": [],
   "source": [
    "from sklearn.model_selection import train_test_split\n",
    "X_train, X_test, y_train, y_test = train_test_split(X, y, test_size = 0.2, random_state = 0)"
   ]
  },
  {
   "cell_type": "markdown",
   "id": "6d68d207-de6a-4869-b62e-8db4c800b030",
   "metadata": {},
   "source": [
    "### Training the model"
   ]
  },
  {
   "cell_type": "code",
   "execution_count": null,
   "id": "a0ecf96c-608a-4159-beb6-d8f42f371fd1",
   "metadata": {},
   "outputs": [],
   "source": [
    "from sklearn.tree import DecisionTreeRegressor\n",
    "regressor = DecisionTreeRegressor(random_state = 0)\n",
    "regressor.fit(X_train, y_train)"
   ]
  },
  {
   "cell_type": "markdown",
   "id": "dd48ac2a-875d-4d7e-92f2-522db671cfb2",
   "metadata": {},
   "source": [
    "### Making prediction"
   ]
  },
  {
   "cell_type": "code",
   "execution_count": null,
   "id": "f1138bcd-5763-4ec2-bf87-4140934ccdbe",
   "metadata": {},
   "outputs": [],
   "source": [
    "y_pred = regressor.predict(X_test)\n",
    "np.set_printoptions(precision=2)\n",
    "print(np.concatenate((y_pred.reshape(len(y_pred),1), y_test.reshape(len(y_test),1)),1))"
   ]
  },
  {
   "cell_type": "markdown",
   "id": "9884e18d-cbce-4b29-9de2-139a3118575f",
   "metadata": {},
   "source": [
    "### Checking Performance"
   ]
  },
  {
   "cell_type": "code",
   "execution_count": null,
   "id": "252316f0-6f46-4d33-a859-e6ab2077d555",
   "metadata": {},
   "outputs": [],
   "source": [
    "from sklearn.metrics import r2_score\n",
    "r2_score(y_test, y_pred)"
   ]
  }
 ],
 "metadata": {
  "kernelspec": {
   "display_name": "Python 3 (ipykernel)",
   "language": "python",
   "name": "python3"
  },
  "language_info": {
   "codemirror_mode": {
    "name": "ipython",
    "version": 3
   },
   "file_extension": ".py",
   "mimetype": "text/x-python",
   "name": "python",
   "nbconvert_exporter": "python",
   "pygments_lexer": "ipython3",
   "version": "3.11.0"
  }
 },
 "nbformat": 4,
 "nbformat_minor": 5
}
